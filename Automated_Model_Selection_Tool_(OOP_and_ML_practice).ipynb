{
  "nbformat": 4,
  "nbformat_minor": 0,
  "metadata": {
    "colab": {
      "provenance": [],
      "authorship_tag": "ABX9TyNuIQgWbp3kGTtUWSZ3eL5g",
      "include_colab_link": true
    },
    "kernelspec": {
      "name": "python3",
      "display_name": "Python 3"
    },
    "language_info": {
      "name": "python"
    }
  },
  "cells": [
    {
      "cell_type": "markdown",
      "metadata": {
        "id": "view-in-github",
        "colab_type": "text"
      },
      "source": [
        "<a href=\"https://colab.research.google.com/github/reinaldi09/Automated_model_selection_tool/blob/main/Automated_Model_Selection_Tool_(OOP_and_ML_practice).ipynb\" target=\"_parent\"><img src=\"https://colab.research.google.com/assets/colab-badge.svg\" alt=\"Open In Colab\"/></a>"
      ]
    },
    {
      "cell_type": "markdown",
      "source": [
        "#OOP and simple machine learning projects\n",
        "\n",
        "Project Idea: Automated Model Selection Tool\n",
        "\n",
        "Overview:\n",
        "Create a Python program that automates the process of selecting and training the best-fitting regression model (either linear or polynomial) for a given dataset. The program should implement OOP principles to organize the code into reusable and modular components.\n",
        "\n",
        "Features:\n",
        "\n",
        "1. Dataset Loader: Implement a class to load the dataset from a file (e.g., CSV format). This class should preprocess the data, handle missing values, and split it into training and testing sets.\n",
        "\n",
        "2. Regression Models: Create classes for linear regression and polynomial regression. Each class should encapsulate the model's parameters, such as coefficients for linear regression or degree for polynomial regression. These classes should have methods for training the model using the training data and making predictions.\n",
        "\n",
        "3. Model Selection: Implement a model selection module that automatically selects the best-fitting regression model based on the dataset's characteristics. You can use criteria such as model performance (e.g., RMSE, R-squared), complexity (e.g., number of parameters), or cross-validation scores to make the selection.\n",
        "\n",
        "4. Evaluation: Develop a module for evaluating the selected model's performance on the testing dataset. This module should calculate relevant evaluation metrics such as RMSE, R-squared, and visualize the predicted vs. actual values.\n",
        "\n",
        "5. User Interface: Create a simple command-line interface or graphical user interface (GUI) to interact with the program. The interface should allow users to input the dataset, choose the type of regression model, and display the evaluation results.\n",
        "\n",
        "Example Workflow:\n",
        "\n",
        "1. Load the dataset and split it into training and testing sets.\n",
        "2. Automatically select the best-fitting regression model (linear or polynomial) based on the dataset.\n",
        "3. Train the selected model using the training data.\n",
        "4.Evaluate the model's performance on the testing dataset.\n",
        "5. Display evaluation metrics and visualization of predicted vs. actual values.\n",
        "\n",
        "*Bonus Features:*\n",
        "\n",
        "- Implement additional regression algorithms (e.g., Ridge regression, Lasso regression) for comparison.\n",
        "- Add support for handling categorical variables or feature scaling.\n",
        "- Extend the project to handle multiple datasets and perform automated model selection across them."
      ],
      "metadata": {
        "id": "THhn76lLCVWo"
      }
    },
    {
      "cell_type": "markdown",
      "source": [
        "#Generate the dataset"
      ],
      "metadata": {
        "id": "17qncQYSImLP"
      }
    },
    {
      "cell_type": "code",
      "source": [
        "import pandas as pd\n",
        "import numpy as np\n",
        "\n",
        "# Generate synthetic dataset for demonstration\n",
        "np.random.seed(0)\n",
        "X = np.random.rand(100, 1) * 10  # Feature values between 0 and 10\n",
        "y = 2 * X.squeeze() + np.random.randn(100)  # Target values with noise\n",
        "\n",
        "# Create a DataFrame\n",
        "df = pd.DataFrame({'Feature': X.squeeze(), 'Target': y})\n",
        "\n",
        "# Save DataFrame to CSV file\n",
        "df.to_csv('dataset.csv', index=False)"
      ],
      "metadata": {
        "id": "OVVMAg1CIoDT"
      },
      "execution_count": 1,
      "outputs": []
    },
    {
      "cell_type": "markdown",
      "source": [
        "#Load the dataset"
      ],
      "metadata": {
        "id": "r0nkWmO4DpEM"
      }
    },
    {
      "cell_type": "code",
      "execution_count": 2,
      "metadata": {
        "id": "6b5eGzTBB32i"
      },
      "outputs": [],
      "source": [
        "import pandas as pd\n",
        "from sklearn.model_selection import train_test_split\n",
        "\n",
        "class DatasetLoader:\n",
        "    def __init__(self, file_path, test_size=0.3, random_state=42):\n",
        "        self.file_path = file_path\n",
        "        self.test_size = test_size\n",
        "        self.random_state = random_state\n",
        "\n",
        "    def load_dataset(self):\n",
        "        dataset = pd.read_csv(self.file_path) # Load dataset from CSV file\n",
        "        X = dataset.drop(columns=['Target'])\n",
        "        y = dataset['Target']\n",
        "\n",
        "        # Split dataset into training and testing sets\n",
        "        X_train, X_test, y_train, y_test = train_test_split(X, y, test_size=self.test_size, random_state=self.random_state)\n",
        "        return X_train, X_test, y_train, y_test\n",
        "\n",
        "# # Instantiate the DatasetLoader class\n",
        "# loader = DatasetLoader(file_path=\"/content/dataset.csv\")\n",
        "\n",
        "# # Load the dataset\n",
        "# X_train, X_test, y_train, y_test = loader.load_dataset()\n",
        "\n",
        "# # Print the values\n",
        "# print(\"X_train:\")\n",
        "# print(X_train)\n",
        "# print(\"\\nX_test:\")\n",
        "# print(X_test)\n",
        "# print(\"\\ny_train:\")\n",
        "# print(y_train)\n",
        "# print(\"\\ny_test:\")\n",
        "# print(y_test)"
      ]
    },
    {
      "cell_type": "markdown",
      "source": [
        "#Regression Model"
      ],
      "metadata": {
        "id": "epGj7oGTHhgr"
      }
    },
    {
      "cell_type": "code",
      "source": [
        "from sklearn.linear_model import LinearRegression\n",
        "from sklearn.preprocessing import PolynomialFeatures\n",
        "from sklearn.pipeline import make_pipeline\n",
        "\n",
        "class RegressionModel:\n",
        "    def __init__(self):\n",
        "        pass\n",
        "\n",
        "    def train(self, X_train, y_train):\n",
        "        raise NotImplementedError(\"train() method must be implemented in subclass\")\n",
        "\n",
        "    def predict(self, X):\n",
        "        raise NotImplementedError(\"predict() method must be implemented in subclass\")\n",
        "\n",
        "class LinearRegressionModel(RegressionModel):\n",
        "    def __init__(self):\n",
        "        super().__init__()\n",
        "        self.model = LinearRegression()\n",
        "\n",
        "    def train(self, X_train, y_train):\n",
        "        self.model.fit(X_train, y_train)\n",
        "\n",
        "    def predict(self, X):\n",
        "        return self.model.predict(X)\n",
        "\n",
        "class PolynomialRegressionModel(RegressionModel):\n",
        "    def __init__(self, degree=2):\n",
        "        super().__init__()\n",
        "        self.degree = degree\n",
        "        self.model = make_pipeline(PolynomialFeatures(degree), LinearRegression())\n",
        "\n",
        "    def train(self, X_train, y_train):\n",
        "        self.model.fit(X_train, y_train)\n",
        "\n",
        "    def predict(self, X):\n",
        "        return self.model.predict(X)"
      ],
      "metadata": {
        "id": "mdCINxNXHj1-"
      },
      "execution_count": 3,
      "outputs": []
    },
    {
      "cell_type": "code",
      "source": [
        "from sklearn.metrics import mean_squared_error\n",
        "\n",
        "class ModelSelector:\n",
        "    def __init__(self, models):\n",
        "        self.models = models\n",
        "\n",
        "    def select_best_model(self, X_train, y_train, X_test, y_test):\n",
        "        best_model = None\n",
        "        best_score = float('inf')  # Initialize with a high value for minimization\n",
        "        for model in self.models:\n",
        "            model.train(X_train, y_train)\n",
        "            y_pred = model.predict(X_test)\n",
        "            mse = mean_squared_error(y_test, y_pred)\n",
        "            if mse < best_score:\n",
        "                best_model = model\n",
        "                best_score = mse\n",
        "        return best_model"
      ],
      "metadata": {
        "id": "1qElDeXSLIwu"
      },
      "execution_count": 4,
      "outputs": []
    },
    {
      "cell_type": "code",
      "source": [
        "import matplotlib.pyplot as plt\n",
        "\n",
        "class ModelEvaluator:\n",
        "    def __init__(self, model):\n",
        "        self.model = model\n",
        "\n",
        "    def evaluate(self, X_test, y_test):\n",
        "        y_pred = self.model.predict(X_test)\n",
        "        mse = mean_squared_error(y_test, y_pred)\n",
        "        r_squared = self.model.score(X_test, y_test)\n",
        "        # Additional evaluation metrics can be calculated here\n",
        "        return mse, r_squared\n",
        "\n",
        "    def visualize_results(self, X_test, y_test):\n",
        "        y_pred = self.model.predict(X_test)\n",
        "        plt.scatter(y_test, y_pred)\n",
        "        plt.xlabel('Actual Values')\n",
        "        plt.ylabel('Predicted Values')\n",
        "        plt.title('Actual vs. Predicted Values')\n",
        "        plt.show()"
      ],
      "metadata": {
        "id": "BZ0Ure0QLM7Y"
      },
      "execution_count": null,
      "outputs": []
    },
    {
      "cell_type": "code",
      "source": [
        "def main():\n",
        "    # Example usage\n",
        "    file_path = 'dataset.csv'\n",
        "    dataset_loader = DatasetLoader(file_path)\n",
        "    X_train, X_test, y_train, y_test = dataset_loader.load_dataset()\n",
        "\n",
        "    linear_regression_model = LinearRegressionModel()\n",
        "    polynomial_regression_model = PolynomialRegressionModel(degree=2)\n",
        "\n",
        "    model_selector = ModelSelector([linear_regression_model, polynomial_regression_model])\n",
        "    best_model = model_selector.select_best_model(X_train, y_train, X_test, y_test)\n",
        "    print(best_model)\n",
        "\n",
        "    model_evaluator = ModelEvaluator(best_model)\n",
        "    # mse, r_squared = model_evaluator.evaluate(X_test, y_test)\n",
        "    # print(f'MSE: {mse}, R-squared: {r_squared}')\n",
        "\n",
        "    model_evaluator.visualize_results(X_test, y_test)\n",
        "\n",
        "if __name__ == \"__main__\":\n",
        "    main()"
      ],
      "metadata": {
        "colab": {
          "base_uri": "https://localhost:8080/",
          "height": 489
        },
        "id": "PpL6Eju5LUAD",
        "outputId": "98f4387e-c0a8-4f91-e172-28f32fc3c2eb"
      },
      "execution_count": null,
      "outputs": [
        {
          "output_type": "stream",
          "name": "stdout",
          "text": [
            "<__main__.PolynomialRegressionModel object at 0x7dda72c3d2a0>\n"
          ]
        },
        {
          "output_type": "display_data",
          "data": {
            "text/plain": [
              "<Figure size 640x480 with 1 Axes>"
            ],
            "image/png": "[encoded data removed]"
          },
          "metadata": {}
        }
      ]
    }
  ]
}